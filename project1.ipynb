{
 "cells": [
  {
   "cell_type": "markdown",
   "metadata": {},
   "source": [
    "# Programming for Data Analytics #\n",
    "\n",
    "## Project 1 ##\n",
    "\n",
    "***\n",
    "\n",
    "**Project Objectives**\n",
    "\n",
    "This project is to selct a real world phenomenon and synthesise and model data relating to the selected phenomenon. Key considerations\n",
    "\n",
    "- Use numpy.random to synthesise data\n",
    "- Phenomenon must be measurable with potential to collect 100 data points across 4 variables,\n",
    "- Simulate data set matching the dataset as closely as possible\n",
    "- Detail project research.\n",
    "\n",
    "\n",
    "**Selected Phenomenon**\n",
    "\n",
    "The phenomenon that I have selected to analyse in this project is the level of engagement received by DMO the number of likes received by tweets, specifically the relationship between the primamry determinants of likes per Tweet and the tweet like numbers.\n"
   ]
  },
  {
   "cell_type": "markdown",
   "metadata": {},
   "source": [
    "\n",
    "\n",
    "##  Project approach ##\n",
    "\n",
    "The project approach I have adopted to complete this project follows the below broad steps. Each step is furhter expanded throughout this Jupyter notebook:\n",
    "\n",
    "1. Identify Phenomenon,\n",
    "2. Source real data set,\n",
    "3. Prepare real data set for analysis,\n",
    "4. Analyse real data set for distribution and relationships,\n",
    "5. Synthesise/simulate data sets\n",
    "\n",
    "### Phenomenon Research ###\n",
    "\n",
    "Infomration pertaining to tweet performance with regard to number of likes is readily available. A data set, detailing tweet performmance and content is published on kaggle. \n",
    "Based on further research, the variables that effect twitter engagement, the nominated engagement variable for this project is likes, include a number of factors such as language of tweet, the inclusion of media (photos, videos, links etc.), day/time of tweet, number of account followers. \n",
    "\n",
    "The most interesting variables that influence tweet engagement or like count are:\n",
    "1. the day of the week of the tweet, \n",
    "2. the number of followers the account has, \n",
    "3. the inclusion of a photo or video, \n",
    "4. the length of the tweet (characters)\n"
   ]
  },
  {
   "cell_type": "markdown",
   "metadata": {},
   "source": [
    "## Libraries ##\n",
    "\n",
    "Here is where I load in the required libraries for completing the project"
   ]
  },
  {
   "cell_type": "code",
   "execution_count": null,
   "metadata": {},
   "outputs": [],
   "source": [
    "#import python libraries\n",
    "import numpy as np\n",
    "import pandas as pd\n",
    "import seaborn\n",
    "import matplotlib.pyplot as plt\n"
   ]
  },
  {
   "cell_type": "code",
   "execution_count": null,
   "metadata": {},
   "outputs": [],
   "source": [
    "# read in data from the excel file in the data folder\n",
    "cso = pd.read_excel('data/P-SILC2022TBL7.1.xls', sheet_name='P-SILC2022TBL7.1', usecols=\"A,D\")\n",
    "print (cso)"
   ]
  },
  {
   "cell_type": "markdown",
   "metadata": {},
   "source": [
    "***\n",
    "\n",
    "## References ##\n",
    "\n",
    "Mendley Data Set: https://data.mendeley.com/datasets/bfk3hvdcnt/1\n",
    "\n",
    "Kaggle data set source: https://www.kaggle.com/datasets/jocelyndumlao/dmo-social-media-engagement-dataset\n",
    "\n",
    "Determining factors that drive twitter engagement rates: https://journals.scholarpublishing.org/index.php/ABR/article/download/2700/1677#:~:text=These%20variables%20includes%20the%20day,the%20tweet%20among%20other%20variables."
   ]
  },
  {
   "cell_type": "markdown",
   "metadata": {},
   "source": [
    "***\n",
    "# End #"
   ]
  }
 ],
 "metadata": {
  "kernelspec": {
   "display_name": "base",
   "language": "python",
   "name": "python3"
  },
  "language_info": {
   "codemirror_mode": {
    "name": "ipython",
    "version": 3
   },
   "file_extension": ".py",
   "mimetype": "text/x-python",
   "name": "python",
   "nbconvert_exporter": "python",
   "pygments_lexer": "ipython3",
   "version": "3.9.7"
  }
 },
 "nbformat": 4,
 "nbformat_minor": 2
}
