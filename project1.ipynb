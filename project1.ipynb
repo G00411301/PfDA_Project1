{
 "cells": [
  {
   "cell_type": "markdown",
   "metadata": {},
   "source": [
    "# Programming for Data Analytics #\n",
    "\n",
    "## Project 1 ##\n",
    "\n",
    "***\n",
    "\n",
    "**Project Objectives**\n",
    "\n",
    "This project is to selct a real world phenomenon and synthesise and model data relating to the selected phenomenon. Key considerations\n",
    "\n",
    "- Use numpy.random to synthesise data\n",
    "- Phenomenon must be measurable with potential to collect 100 data points across 4 variables,\n",
    "- Simulate data set matching the dataset as closely as possible\n",
    "- Detail project research.\n",
    "\n",
    "\n",
    "**Selected Phenomenon**\n",
    "\n",
    "The phenomenon that I have selected to analyse in this project is median nominal household income in Ireland. \n"
   ]
  },
  {
   "cell_type": "markdown",
   "metadata": {},
   "source": [
    "## Phenomenon Research ##\n",
    "\n",
    "Infomration pertaining to median nominal household income is readily available. A significnat source of information pertaining to household income is the Central Statistics Office.\n",
    "\n",
    "Based on research conducted, the most signifncat variables that impact the medial household income are are, employment status, education level and the number of peiole in the household.\n",
    "Other variables that have an impact on the median household income include region/geographical location, the number of workers in the household, housing status (owner/renter), number  of children in the household.\n",
    "\n",
    "For the purpose of this project, I will focus on the variables:\n",
    "\n",
    "- Age,\n",
    "- Employment Status,\n",
    "- Education Level,\n",
    "- The number of people in the household. \n",
    "\n",
    "The Age and number of people in the household will be non-zero integer values, Employment status will be be a categorical variable with six possible values: *Employed, Unemployed, retired, unable to work, student, fulfilling domestic tasks*, Education level will be a categorical variable with six possible values: *primary or below, lower secondary, higher secondary, post leaving cert, third level non degree, thrid level degree or above*"
   ]
  },
  {
   "cell_type": "markdown",
   "metadata": {},
   "source": [
    "## Libraries ##\n",
    "\n",
    "Here is where I load in the required libraries for completing the project"
   ]
  },
  {
   "cell_type": "code",
   "execution_count": null,
   "metadata": {},
   "outputs": [],
   "source": [
    "#import python libraries\n",
    "import numpy as np\n",
    "import pandas as pd\n",
    "import seaborn\n",
    "import matplotlib.pyplot as plt\n"
   ]
  },
  {
   "cell_type": "markdown",
   "metadata": {},
   "source": [
    "***\n",
    "\n",
    "## References ##\n",
    "\n",
    "Central Statistics Office Survey on Income and Living Conditions - https://www.cso.ie/en/releasesandpublications/ep/p-silc/surveyonincomeandlivingconditionssilc2022/householdincome/\n",
    "\n",
    "\n",
    "Central Statisitics Office data set - https://www.cso.ie/en/releasesandpublications/ep/p-silc/surveyonincomeandlivingconditionssilc2022/annex/"
   ]
  },
  {
   "cell_type": "markdown",
   "metadata": {},
   "source": [
    "***\n",
    "# End #"
   ]
  }
 ],
 "metadata": {
  "language_info": {
   "name": "python"
  }
 },
 "nbformat": 4,
 "nbformat_minor": 2
}
