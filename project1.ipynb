{
 "cells": [
  {
   "cell_type": "markdown",
   "metadata": {},
   "source": [
    "# Programming for Data Analytics #\n",
    "\n",
    "## Project 1 ##\n",
    "\n",
    "***\n",
    "\n",
    "**Project Objectives**\n",
    "\n",
    "This project is to selct a real world phenomenon and synthesise and model data relating to the selected phenomenon. Key considerations\n",
    "\n",
    "- Use numpy.random to synthesise data\n",
    "- Phenomenon must be measurable with potential to collect 100 data points across 4 variables,\n",
    "- Simulate data set matching the dataset as closely as possible\n",
    "- Detail project research.\n",
    "\n",
    "\n",
    "**Selected Phenomenon**\n",
    "\n",
    "The phenomenon that I have selected to analyse in this project is the level of engagement received by DMO the number of likes received by tweets, specifically the relationship between the primamry determinants of likes per Tweet and the tweet like numbers.\n"
   ]
  },
  {
   "cell_type": "markdown",
   "metadata": {},
   "source": [
    "\n",
    "\n",
    "##  Project approach ##\n",
    "\n",
    "The project approach I have adopted to complete this project follows the below broad steps. Each step is furhter expanded throughout this Jupyter notebook:\n",
    "\n",
    "1. Identify Phenomenon,\n",
    "2. Source real data set,\n",
    "3. Prepare real data set for analysis,\n",
    "4. Analyse real data set for distribution and relationships,\n",
    "5. Synthesise/simulate data sets\n",
    "\n",
    "### Phenomenon Research ###\n",
    "\n",
    "Infomration pertaining to tweet performance with regard to number of likes is readily available. A data set, detailing tweet performmance and content is published on kaggle. \n",
    "Based on further research, the variables that effect twitter engagement, the nominated engagement variable for this project is likes, include a number of factors such as language of tweet, the inclusion of media (photos, videos, links etc.), day/time of tweet, number of account followers. \n",
    "\n",
    "The most interesting variables that influence tweet engagement or like count are:\n",
    "1. the day of the week of the tweet, \n",
    "2. the number of followers the account has, \n",
    "3. the inclusion of a photo or video, \n",
    "4. the length of the tweet (characters)\n"
   ]
  },
  {
   "cell_type": "markdown",
   "metadata": {},
   "source": [
    "## Libraries ##\n",
    "\n",
    "Here is where I load in the required libraries for completing the project"
   ]
  },
  {
   "cell_type": "code",
   "execution_count": 5,
   "metadata": {},
   "outputs": [],
   "source": [
    "#import python libraries\n",
    "import numpy as np\n",
    "import pandas as pd\n",
    "import seaborn\n",
    "import matplotlib.pyplot as plt\n"
   ]
  },
  {
   "cell_type": "markdown",
   "metadata": {},
   "source": [
    "## Prepare Real Data set for Analysis ##\n",
    "\n",
    "First I want to read in all of the real world data from the csv file that I downloaded from kaggle and stored in the data forlder in the project directory. I only import the fields/columns that I may be intereted in as the file contains a broad range of data columns that relate to each tweet but will not be used in this project. initially, the fields that I am importing include:\n",
    "\n",
    "- Like Count,\n",
    "- the Day the tweet was published,\n",
    "- The time of the tweet,\n",
    "- The number of followers the page that published the tweet has,\n",
    "- The status text - the actual tweet content or status\n",
    "- Media type attached to the tweet \n",
    "\n",
    "This then allows me to print the data to the screen to ensure the data selected is the relevant data. "
   ]
  },
  {
   "cell_type": "code",
   "execution_count": 10,
   "metadata": {},
   "outputs": [
    {
     "name": "stdout",
     "output_type": "stream",
     "text": [
      "       like_count    DateDay                Time  Followers  \\\n",
      "0               1  Wednesday  Non-buisness hours       5164   \n",
      "1               1   Thursday      Business hours       5164   \n",
      "2               1     Sunday  Non-buisness hours       5164   \n",
      "3               3     Monday      Business hours       5164   \n",
      "4               1    Tuesday  Non-buisness hours       5164   \n",
      "...           ...        ...                 ...        ...   \n",
      "23001          14     Friday  Non-buisness hours       5164   \n",
      "23002          38     Friday  Non-buisness hours       5164   \n",
      "23003          33     Sunday  Non-buisness hours       5164   \n",
      "23004          15     Sunday  Non-buisness hours       5164   \n",
      "23005          16    Tuesday  Non-buisness hours       5164   \n",
      "\n",
      "                                             Status text Vividness  \n",
      "0      World Tourism Day,  Tourism for inclusive grow...     photo  \n",
      "1      In tune with this year's World Tourism Day the...     photo  \n",
      "2      Kakoijana reserved forest is loca near Abhayap...     photo  \n",
      "3      In your next visit to Kaziranga National Park,...     photo  \n",
      "4      Ketetong is a Singpho tribal village located o...     photo  \n",
      "...                                                  ...       ...  \n",
      "23001  Express your thoughts and get rewarded...\\r\\n....     photo  \n",
      "23002  Frustrated with this pause ??\\r\\n\\r\\nCall in y...     photo  \n",
      "23003  Happy World Tourism Day 2020...\\r\\n\\r\\nThis ye...     photo  \n",
      "23004  Congratulations to all the winners of Awesome ...     photo  \n",
      "23005  #FeelTheShakti\\r\\nSeek blessings from Mother G...     video  \n",
      "\n",
      "[23006 rows x 6 columns]\n"
     ]
    }
   ],
   "source": [
    "# read in data from the csv file in the data folder\n",
    "tweet = pd.read_csv('data/Data LIWC 01 02 23.csv', usecols = ['like_count', 'DateDay', 'Time', 'Followers', 'Status text', 'Vividness' ]) # import relevant data from CSV file\n",
    "print (tweet) #Print the data to the screen to conirm the correct data was imported"
   ]
  },
  {
   "cell_type": "markdown",
   "metadata": {},
   "source": [
    "Next we want to make a number of amendments to the data set in order to facilitate better analysis. The following changes/amendments to the data set are initially proposed in order to standardise and convert recorded data to numerical values.\n",
    "\n",
    "Newly created values, based on the original values will be appended to the exisitng tweet data frame and saved as a new data frame called tweet2.\n",
    "\n",
    " - Like Count => This is an integar value that can be any value including zero. No transformation will be carried out on this value.\n",
    " - DateDay => this is a text value listing the day of the week that the tweet was published. This will be transformed to a numberical value from 0 - 6, with sunday being 0 and Saturday being 6.\n",
    " - Time => this is a text valie listing if the tweet was published during business hours or Non-Business hours. Non-business hours will be 0 and Business hours will be 1.\n",
    " - FOllowers => This is an integar value that can be any value including zero. No transformation will be carried out on this value.\n",
    " - Status text => this is a text value listing the text content of the relevant tweet. This will be converted to a numerical value counting the length of the tweet in characters.\n",
    " - Vividness => this is a text value detailing the media form that is attached to each tweet. This will be converted to a numerical value where 0 represents photos and 1 represents video. \n",
    "\n",
    " "
   ]
  },
  {
   "cell_type": "markdown",
   "metadata": {},
   "source": [
    "***\n",
    "\n",
    "## References ##\n",
    "\n",
    "Mendley Data Set: https://data.mendeley.com/datasets/bfk3hvdcnt/1\n",
    "\n",
    "Kaggle data set source: https://www.kaggle.com/datasets/jocelyndumlao/dmo-social-media-engagement-dataset\n",
    "\n",
    "Determining factors that drive twitter engagement rates: https://journals.scholarpublishing.org/index.php/ABR/article/download/2700/1677#:~:text=These%20variables%20includes%20the%20day,the%20tweet%20among%20other%20variables."
   ]
  },
  {
   "cell_type": "markdown",
   "metadata": {},
   "source": [
    "***\n",
    "# End #"
   ]
  }
 ],
 "metadata": {
  "kernelspec": {
   "display_name": "base",
   "language": "python",
   "name": "python3"
  },
  "language_info": {
   "codemirror_mode": {
    "name": "ipython",
    "version": 3
   },
   "file_extension": ".py",
   "mimetype": "text/x-python",
   "name": "python",
   "nbconvert_exporter": "python",
   "pygments_lexer": "ipython3",
   "version": "3.9.7"
  }
 },
 "nbformat": 4,
 "nbformat_minor": 2
}
